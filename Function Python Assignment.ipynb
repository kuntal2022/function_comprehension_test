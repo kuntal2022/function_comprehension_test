{
 "cells": [
  {
   "cell_type": "markdown",
   "id": "b756d243",
   "metadata": {},
   "source": [
    "### Q1. Which keyword is used to create a function? Create a function to return a list of odd numbers in the range of 1 to 25."
   ]
  },
  {
   "cell_type": "code",
   "execution_count": 5,
   "id": "b0469b39",
   "metadata": {},
   "outputs": [
    {
     "data": {
      "text/plain": [
       "[1, 3, 5, 7, 9, 11, 13, 15, 17, 19, 21, 23, 25]"
      ]
     },
     "execution_count": 5,
     "metadata": {},
     "output_type": "execute_result"
    }
   ],
   "source": [
    "#ans\n",
    "# To create a function we need to use def function\n",
    "\n",
    "n=25\n",
    "def odd_list(n):\n",
    "    \n",
    "    l2=[i for i in list(range(1,n+1)) if i%2 !=0]\n",
    "    return l2\n",
    "odd_list(n)"
   ]
  },
  {
   "cell_type": "markdown",
   "id": "41a6a968",
   "metadata": {},
   "source": [
    "### Q2. Why *args and ***kwargs is used in some functions? Create a function each for *args and **kwargs to demonstrate their use."
   ]
  },
  {
   "cell_type": "markdown",
   "id": "faa7ee6d",
   "metadata": {},
   "source": [
    "### *args\n",
    "\n",
    "##### a. when we need n number of argumnts to be given by user we can use single *args\n",
    "##### b. In this case we will get data stored in tuple form \n"
   ]
  },
  {
   "cell_type": "code",
   "execution_count": 12,
   "id": "ab3442bf",
   "metadata": {},
   "outputs": [
    {
     "name": "stdout",
     "output_type": "stream",
     "text": [
      "(1, 2, 3, 4, 5, 6)\n",
      "([1, 2, 3, 4, 5, 6, 7, 8, 9],)\n"
     ]
    },
    {
     "data": {
      "text/plain": [
       "tuple"
      ]
     },
     "execution_count": 12,
     "metadata": {},
     "output_type": "execute_result"
    }
   ],
   "source": [
    "# example-1\n",
    "\n",
    "def test1(*args):\n",
    "    return args\n",
    "print(test1(1,2,3,4,5,6)) # return tuple\n",
    "print(test1(list(range(1,10)))) # return tuple of list\n",
    "type(test1()) # print the type of the data it returns"
   ]
  },
  {
   "cell_type": "code",
   "execution_count": 10,
   "id": "d7baa56a",
   "metadata": {},
   "outputs": [
    {
     "name": "stdout",
     "output_type": "stream",
     "text": [
      "(1, 2, 3, 4, 5, 6, 1, 2, 3, 4, 5, 6)\n"
     ]
    }
   ],
   "source": [
    "# example-2\n",
    "def test2(*args, a):\n",
    "    return args*a\n",
    "print(test2(1,2,3,4,5,6, a=2) ) # one list of uple has been multiplied by 2 as a=2\n"
   ]
  },
  {
   "cell_type": "markdown",
   "id": "045920ef",
   "metadata": {},
   "source": [
    "### **kwargs\n",
    "\n",
    "##### a. When we need multiple argumnets from user to be stored in key-value pair in dict form **kwargs can be used\n",
    "##### b. It reurns dict type data "
   ]
  },
  {
   "cell_type": "code",
   "execution_count": 23,
   "id": "0ae0e1f3",
   "metadata": {},
   "outputs": [
    {
     "name": "stdout",
     "output_type": "stream",
     "text": [
      "{'a': [1, 2, 3], 'b': (7, 9, 100), 'c': 'I am Learner', 'd': {1, 2}}\n"
     ]
    },
    {
     "data": {
      "text/plain": [
       "dict"
      ]
     },
     "execution_count": 23,
     "metadata": {},
     "output_type": "execute_result"
    }
   ],
   "source": [
    "# example\n",
    "def test3(**kwargs):\n",
    "    \n",
    "    return kwargs\n",
    "print(test3(a=[1,2,3], b=(7,9,100), c=\"I am Learner\", d= {1,2,1,2}))\n",
    "type(test3())       \n",
    "        "
   ]
  },
  {
   "cell_type": "markdown",
   "id": "f9ba2826",
   "metadata": {},
   "source": [
    "### Q3. What is an iterator in python? Name the method used to initialise the iterator object and the method used for iteration. Use these methods to print the first five elements of the given list [2, 4, 6, 8, 10, 12, 14,16, 18, 20]."
   ]
  },
  {
   "cell_type": "markdown",
   "id": "ca662985",
   "metadata": {},
   "source": [
    "### Ans\n",
    "\n",
    "###### An iterator is a key word in python which goes to each items or element of an assinged data structure like list, tuple, set, dictonary one by one and push for specefic function of one or multiple manupulation through code it has been created for.\n",
    "\n",
    "###### The iterator object is initialized using the iter() method. It uses the next() method for iteration.\n",
    "\n",
    "\n"
   ]
  },
  {
   "cell_type": "code",
   "execution_count": 30,
   "id": "360d6a8e",
   "metadata": {},
   "outputs": [
    {
     "name": "stdout",
     "output_type": "stream",
     "text": [
      "2\n",
      "4\n",
      "6\n",
      "8\n",
      "10\n"
     ]
    }
   ],
   "source": [
    "l=[2, 4, 6, 8, 10, 12, 14,16, 18, 20]\n",
    "mx = iter(l)\n",
    " \n",
    "print(next(mx))\n",
    "print(next(mx))\n",
    "print(next(mx))\n",
    "print(next(mx))\n",
    "print(next(mx))"
   ]
  },
  {
   "cell_type": "markdown",
   "id": "e294ebee",
   "metadata": {},
   "source": [
    "## Q4. What is a generator function in python? Why yield keyword is used? Give an example of a generator function."
   ]
  },
  {
   "cell_type": "markdown",
   "id": "2e7ae9dd",
   "metadata": {},
   "source": [
    "### Ans\n",
    "\n",
    "###### Generator function in Python is a function that is commonly used to return a sequence of values. Generator function behaves like a normal function but rather it uses a yield statement to return a value instead of return statement. If the body of a function contains yield statement, the function automatically becomes a generator function."
   ]
  },
  {
   "cell_type": "code",
   "execution_count": 37,
   "id": "0c428221",
   "metadata": {},
   "outputs": [
    {
     "name": "stdout",
     "output_type": "stream",
     "text": [
      "0\n",
      "1\n",
      "2\n",
      "3\n",
      "4\n",
      "[5, 6, 7, 8, 9, 10]\n"
     ]
    }
   ],
   "source": [
    "# generator function that yields counting from 0 to n\n",
    "def count_x(n):\n",
    "    for i in range(0, n+1):\n",
    "        yield i\n",
    "# now calling generator function, gen_obj is termed as generator object       \n",
    "gen_obj = count_x(10) \n",
    " # printing first 5 elemnets     \n",
    "print(next(gen_obj))\n",
    "print(next(gen_obj))\n",
    "print(next(gen_obj))\n",
    "print(next(gen_obj))\n",
    "print(next(gen_obj))\n",
    "# returns generator object with all elements, needed to be typecasted it will returns from here remaining elements\n",
    "print(list(gen_obj)) "
   ]
  },
  {
   "cell_type": "markdown",
   "id": "955f6f36",
   "metadata": {},
   "source": [
    "## Q5. Create a generator function for prime numbers less than 1000. Use the next() method to print the first 20 prime numbers."
   ]
  },
  {
   "cell_type": "code",
   "execution_count": 71,
   "id": "2f3ac865",
   "metadata": {},
   "outputs": [],
   "source": [
    "# ans\n",
    "n=1000\n",
    "def get_prime(n):\n",
    "    for x in range(1,n):\n",
    "        for y in range(2,x):\n",
    "            if x%y==0:\n",
    "                break\n",
    "        else:\n",
    "            yield x\n",
    "m= get_prime(1000)"
   ]
  },
  {
   "cell_type": "code",
   "execution_count": 75,
   "id": "d488e560",
   "metadata": {},
   "outputs": [
    {
     "name": "stdout",
     "output_type": "stream",
     "text": [
      "5\n",
      "7\n",
      "11\n",
      "13\n",
      "17\n",
      "19\n",
      "23\n",
      "29\n",
      "31\n",
      "37\n",
      "41\n",
      "43\n",
      "47\n",
      "53\n",
      "59\n",
      "61\n",
      "67\n",
      "71\n",
      "73\n",
      "79\n"
     ]
    }
   ],
   "source": [
    "print(next(m))\n",
    "print(next(m))\n",
    "print(next(m))\n",
    "print(next(m))\n",
    "print(next(m))\n",
    "print(next(m))\n",
    "print(next(m))\n",
    "print(next(m))\n",
    "print(next(m))\n",
    "print(next(m))\n",
    "print(next(m))\n",
    "print(next(m))\n",
    "print(next(m))\n",
    "print(next(m))\n",
    "print(next(m))\n",
    "print(next(m))\n",
    "print(next(m))\n",
    "print(next(m))\n",
    "print(next(m))\n",
    "print(next(m))\n"
   ]
  },
  {
   "cell_type": "markdown",
   "id": "2f725478",
   "metadata": {},
   "source": [
    "## Q6. Write a python program to print the first 10 Fibonacci numbers using a while loop."
   ]
  },
  {
   "cell_type": "code",
   "execution_count": 76,
   "id": "e57d084b",
   "metadata": {},
   "outputs": [
    {
     "name": "stdout",
     "output_type": "stream",
     "text": [
      "0\n",
      "1\n",
      "1\n",
      "2\n",
      "3\n",
      "5\n",
      "8\n",
      "13\n",
      "21\n",
      "34\n"
     ]
    }
   ],
   "source": [
    "# ans\n",
    "\n",
    "number = 10\n",
    "a , b  = 0 , 1 \n",
    "counter = 0 \n",
    "while counter < number : \n",
    "    print(a)\n",
    "    c = a+ b\n",
    "    a = b \n",
    "    b = c \n",
    "    counter= counter+ 1"
   ]
  },
  {
   "cell_type": "markdown",
   "id": "1099a8d0",
   "metadata": {},
   "source": [
    "### Q7. Write a List Comprehension to iterate through the given string: ‘pwskills’. Expected output: ['p', 'w', 's', 'k', 'i', 'l', 'l', 's']"
   ]
  },
  {
   "cell_type": "code",
   "execution_count": 77,
   "id": "3c534bbf",
   "metadata": {},
   "outputs": [
    {
     "data": {
      "text/plain": [
       "['p', 'w', 's', 'k', 'i', 'l', 'l', 's']"
      ]
     },
     "execution_count": 77,
     "metadata": {},
     "output_type": "execute_result"
    }
   ],
   "source": [
    "# ans\n",
    "p=\"pwskills\"\n",
    "\n",
    "[i for i in p]"
   ]
  },
  {
   "cell_type": "markdown",
   "id": "9431df33",
   "metadata": {},
   "source": [
    "### Q8. Write a python program to check whether a given number is Palindrome or not using a while loop."
   ]
  },
  {
   "cell_type": "code",
   "execution_count": 79,
   "id": "6ec1a2ee",
   "metadata": {},
   "outputs": [
    {
     "name": "stdout",
     "output_type": "stream",
     "text": [
      "Enter a number:100\n",
      "Not a palindrome!\n"
     ]
    }
   ],
   "source": [
    "num=int(input(\"Enter a number:\"))\n",
    "temp=num\n",
    "rev=0\n",
    "while(num>0):\n",
    "    dig=num%10\n",
    "    rev=rev*10+dig\n",
    "    num=num//10\n",
    "if(temp==rev):\n",
    "    print(\"The number is palindrome!\")\n",
    "else:\n",
    "    print(\"Not a palindrome!\")"
   ]
  },
  {
   "cell_type": "markdown",
   "id": "ff2b23c5",
   "metadata": {},
   "source": [
    "### Q9. Write a code to print odd numbers from 1 to 100 using list comprehension.\n",
    "\n",
    "Note: Use a list comprehension to create a list from 1 to 100 and use another List comprehension to filter\n",
    "out odd numbers."
   ]
  },
  {
   "cell_type": "code",
   "execution_count": 85,
   "id": "1ce7b253",
   "metadata": {},
   "outputs": [
    {
     "data": {
      "text/plain": [
       "[1,\n",
       " 3,\n",
       " 5,\n",
       " 7,\n",
       " 9,\n",
       " 11,\n",
       " 13,\n",
       " 15,\n",
       " 17,\n",
       " 19,\n",
       " 21,\n",
       " 23,\n",
       " 25,\n",
       " 27,\n",
       " 29,\n",
       " 31,\n",
       " 33,\n",
       " 35,\n",
       " 37,\n",
       " 39,\n",
       " 41,\n",
       " 43,\n",
       " 45,\n",
       " 47,\n",
       " 49,\n",
       " 51,\n",
       " 53,\n",
       " 55,\n",
       " 57,\n",
       " 59,\n",
       " 61,\n",
       " 63,\n",
       " 65,\n",
       " 67,\n",
       " 69,\n",
       " 71,\n",
       " 73,\n",
       " 75,\n",
       " 77,\n",
       " 79,\n",
       " 81,\n",
       " 83,\n",
       " 85,\n",
       " 87,\n",
       " 89,\n",
       " 91,\n",
       " 93,\n",
       " 95,\n",
       " 97,\n",
       " 99]"
      ]
     },
     "execution_count": 85,
     "metadata": {},
     "output_type": "execute_result"
    }
   ],
   "source": [
    "l1=[i for i in range(1,101)]\n",
    "l2= [x for x in l1 if x%2!=0]\n",
    "l2"
   ]
  },
  {
   "cell_type": "code",
   "execution_count": null,
   "id": "12a58c91",
   "metadata": {},
   "outputs": [],
   "source": []
  }
 ],
 "metadata": {
  "kernelspec": {
   "display_name": "Python 3 (ipykernel)",
   "language": "python",
   "name": "python3"
  },
  "language_info": {
   "codemirror_mode": {
    "name": "ipython",
    "version": 3
   },
   "file_extension": ".py",
   "mimetype": "text/x-python",
   "name": "python",
   "nbconvert_exporter": "python",
   "pygments_lexer": "ipython3",
   "version": "3.9.13"
  }
 },
 "nbformat": 4,
 "nbformat_minor": 5
}
